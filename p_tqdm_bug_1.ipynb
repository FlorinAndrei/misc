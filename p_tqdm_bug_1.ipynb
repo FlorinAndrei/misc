{
 "cells": [
  {
   "cell_type": "markdown",
   "id": "5d7533c5",
   "metadata": {},
   "source": [
    "Data set is here:\n",
    "\n",
    "https://ai.stanford.edu/~amaas/data/sentiment/\n",
    "\n",
    "Extract the archive in the current directory."
   ]
  },
  {
   "cell_type": "code",
   "execution_count": 1,
   "id": "c43203e3",
   "metadata": {},
   "outputs": [
    {
     "name": "stderr",
     "output_type": "stream",
     "text": [
      "C:\\Users\\flori\\anaconda3\\envs\\nlp_course\\lib\\site-packages\\nltk\\twitter\\__init__.py:20: UserWarning: The twython library has not been installed. Some functionality from the twitter package will not be available.\n",
      "  warnings.warn(\"The twython library has not been installed. \"\n"
     ]
    }
   ],
   "source": [
    "import os\n",
    "from tqdm import tqdm\n",
    "import pandas as pd\n",
    "from p_tqdm import p_map\n",
    "import multiprocess as mp\n",
    "from nltk.sentiment.vader import SentimentIntensityAnalyzer\n",
    "\n",
    "sid = SentimentIntensityAnalyzer()"
   ]
  },
  {
   "cell_type": "code",
   "execution_count": 2,
   "id": "114f8130",
   "metadata": {},
   "outputs": [
    {
     "data": {
      "application/vnd.jupyter.widget-view+json": {
       "model_id": "94eef38d273242aa863790434a4329af",
       "version_major": 2,
       "version_minor": 0
      },
      "text/plain": [
       "  0%|          | 0/12500 [00:00<?, ?it/s]"
      ]
     },
     "metadata": {},
     "output_type": "display_data"
    },
    {
     "data": {
      "application/vnd.jupyter.widget-view+json": {
       "model_id": "6b7b6e057144422bbfff9c5db42d4333",
       "version_major": 2,
       "version_minor": 0
      },
      "text/plain": [
       "  0%|          | 0/12500 [00:00<?, ?it/s]"
      ]
     },
     "metadata": {},
     "output_type": "display_data"
    },
    {
     "name": "stdout",
     "output_type": "stream",
     "text": [
      "Wall time: 11 s\n"
     ]
    }
   ],
   "source": [
    "%%time\n",
    "\n",
    "def read_review(rfile):\n",
    "    with open(rfile, 'r', encoding='utf8') as revf:\n",
    "        review = revf.read()\n",
    "    return review\n",
    "\n",
    "def list_of_files(path):\n",
    "    file_list = [path + f for f in os.listdir(path)]\n",
    "    return file_list\n",
    "\n",
    "pos_files = list_of_files('./aclImdb/train/pos/')\n",
    "neg_files = list_of_files('./aclImdb/train/neg/')\n",
    "\n",
    "pos_reviews = p_map(read_review, pos_files)\n",
    "neg_reviews = p_map(read_review, neg_files)"
   ]
  },
  {
   "cell_type": "code",
   "execution_count": 3,
   "id": "cd6d53b4",
   "metadata": {},
   "outputs": [],
   "source": [
    "df_pos = pd.DataFrame(data={'label': ['pos'] * len(pos_reviews),\n",
    "                            'review': pos_reviews})\n",
    "df_neg = pd.DataFrame(data={'label': ['neg'] * len(neg_reviews),\n",
    "                           'review': neg_reviews})\n",
    "\n",
    "df = pd.concat([df_pos, df_neg], ignore_index=True)\n",
    "df = df.sample(frac=0.1)"
   ]
  },
  {
   "cell_type": "code",
   "execution_count": 4,
   "id": "380dcbce",
   "metadata": {},
   "outputs": [],
   "source": [
    "def get_score(review, sid=sid):\n",
    "    score = sid.polarity_scores(review)\n",
    "    return score\n",
    "\n",
    "review_list = df['review'].tolist()"
   ]
  },
  {
   "cell_type": "code",
   "execution_count": 5,
   "id": "5fae17a4",
   "metadata": {},
   "outputs": [
    {
     "name": "stdout",
     "output_type": "stream",
     "text": [
      "Wall time: 5.26 s\n"
     ]
    },
    {
     "data": {
      "text/html": [
       "<div>\n",
       "<style scoped>\n",
       "    .dataframe tbody tr th:only-of-type {\n",
       "        vertical-align: middle;\n",
       "    }\n",
       "\n",
       "    .dataframe tbody tr th {\n",
       "        vertical-align: top;\n",
       "    }\n",
       "\n",
       "    .dataframe thead th {\n",
       "        text-align: right;\n",
       "    }\n",
       "</style>\n",
       "<table border=\"1\" class=\"dataframe\">\n",
       "  <thead>\n",
       "    <tr style=\"text-align: right;\">\n",
       "      <th></th>\n",
       "      <th>label</th>\n",
       "      <th>review</th>\n",
       "      <th>scores</th>\n",
       "    </tr>\n",
       "  </thead>\n",
       "  <tbody>\n",
       "    <tr>\n",
       "      <th>6318</th>\n",
       "      <td>pos</td>\n",
       "      <td>This police procedural is no worse than many o...</td>\n",
       "      <td>{'neg': 0.081, 'neu': 0.762, 'pos': 0.157, 'co...</td>\n",
       "    </tr>\n",
       "    <tr>\n",
       "      <th>1208</th>\n",
       "      <td>pos</td>\n",
       "      <td>The villian in this movie is one mean sob and ...</td>\n",
       "      <td>{'neg': 0.025, 'neu': 0.814, 'pos': 0.162, 'co...</td>\n",
       "    </tr>\n",
       "    <tr>\n",
       "      <th>12090</th>\n",
       "      <td>pos</td>\n",
       "      <td>The concept of having Laurel &amp; Hardy this time...</td>\n",
       "      <td>{'neg': 0.035, 'neu': 0.663, 'pos': 0.302, 'co...</td>\n",
       "    </tr>\n",
       "    <tr>\n",
       "      <th>15503</th>\n",
       "      <td>neg</td>\n",
       "      <td>I'm not sure it was the language or the poor a...</td>\n",
       "      <td>{'neg': 0.175, 'neu': 0.743, 'pos': 0.082, 'co...</td>\n",
       "    </tr>\n",
       "    <tr>\n",
       "      <th>21141</th>\n",
       "      <td>neg</td>\n",
       "      <td>Very bad but watchable science fiction film th...</td>\n",
       "      <td>{'neg': 0.122, 'neu': 0.758, 'pos': 0.12, 'com...</td>\n",
       "    </tr>\n",
       "  </tbody>\n",
       "</table>\n",
       "</div>"
      ],
      "text/plain": [
       "      label                                             review  \\\n",
       "6318    pos  This police procedural is no worse than many o...   \n",
       "1208    pos  The villian in this movie is one mean sob and ...   \n",
       "12090   pos  The concept of having Laurel & Hardy this time...   \n",
       "15503   neg  I'm not sure it was the language or the poor a...   \n",
       "21141   neg  Very bad but watchable science fiction film th...   \n",
       "\n",
       "                                                  scores  \n",
       "6318   {'neg': 0.081, 'neu': 0.762, 'pos': 0.157, 'co...  \n",
       "1208   {'neg': 0.025, 'neu': 0.814, 'pos': 0.162, 'co...  \n",
       "12090  {'neg': 0.035, 'neu': 0.663, 'pos': 0.302, 'co...  \n",
       "15503  {'neg': 0.175, 'neu': 0.743, 'pos': 0.082, 'co...  \n",
       "21141  {'neg': 0.122, 'neu': 0.758, 'pos': 0.12, 'com...  "
      ]
     },
     "execution_count": 5,
     "metadata": {},
     "output_type": "execute_result"
    }
   ],
   "source": [
    "%%time\n",
    "\n",
    "df['scores'] = df['review'].apply(lambda review: sid.polarity_scores(review))\n",
    "df.head()"
   ]
  },
  {
   "cell_type": "code",
   "execution_count": 6,
   "id": "3e1c93d7",
   "metadata": {},
   "outputs": [
    {
     "data": {
      "application/vnd.jupyter.widget-view+json": {
       "model_id": "52a2e3bf3ca34e1a9c2b94ec13467bbc",
       "version_major": 2,
       "version_minor": 0
      },
      "text/plain": [
       "  0%|          | 0/2500 [00:00<?, ?it/s]"
      ]
     },
     "metadata": {},
     "output_type": "display_data"
    },
    {
     "name": "stdout",
     "output_type": "stream",
     "text": [
      "Wall time: 1min 19s\n"
     ]
    },
    {
     "data": {
      "text/html": [
       "<div>\n",
       "<style scoped>\n",
       "    .dataframe tbody tr th:only-of-type {\n",
       "        vertical-align: middle;\n",
       "    }\n",
       "\n",
       "    .dataframe tbody tr th {\n",
       "        vertical-align: top;\n",
       "    }\n",
       "\n",
       "    .dataframe thead th {\n",
       "        text-align: right;\n",
       "    }\n",
       "</style>\n",
       "<table border=\"1\" class=\"dataframe\">\n",
       "  <thead>\n",
       "    <tr style=\"text-align: right;\">\n",
       "      <th></th>\n",
       "      <th>label</th>\n",
       "      <th>review</th>\n",
       "      <th>scores</th>\n",
       "    </tr>\n",
       "  </thead>\n",
       "  <tbody>\n",
       "    <tr>\n",
       "      <th>6318</th>\n",
       "      <td>pos</td>\n",
       "      <td>This police procedural is no worse than many o...</td>\n",
       "      <td>{'neg': 0.081, 'neu': 0.762, 'pos': 0.157, 'co...</td>\n",
       "    </tr>\n",
       "    <tr>\n",
       "      <th>1208</th>\n",
       "      <td>pos</td>\n",
       "      <td>The villian in this movie is one mean sob and ...</td>\n",
       "      <td>{'neg': 0.025, 'neu': 0.814, 'pos': 0.162, 'co...</td>\n",
       "    </tr>\n",
       "    <tr>\n",
       "      <th>12090</th>\n",
       "      <td>pos</td>\n",
       "      <td>The concept of having Laurel &amp; Hardy this time...</td>\n",
       "      <td>{'neg': 0.035, 'neu': 0.663, 'pos': 0.302, 'co...</td>\n",
       "    </tr>\n",
       "    <tr>\n",
       "      <th>15503</th>\n",
       "      <td>neg</td>\n",
       "      <td>I'm not sure it was the language or the poor a...</td>\n",
       "      <td>{'neg': 0.175, 'neu': 0.743, 'pos': 0.082, 'co...</td>\n",
       "    </tr>\n",
       "    <tr>\n",
       "      <th>21141</th>\n",
       "      <td>neg</td>\n",
       "      <td>Very bad but watchable science fiction film th...</td>\n",
       "      <td>{'neg': 0.122, 'neu': 0.758, 'pos': 0.12, 'com...</td>\n",
       "    </tr>\n",
       "  </tbody>\n",
       "</table>\n",
       "</div>"
      ],
      "text/plain": [
       "      label                                             review  \\\n",
       "6318    pos  This police procedural is no worse than many o...   \n",
       "1208    pos  The villian in this movie is one mean sob and ...   \n",
       "12090   pos  The concept of having Laurel & Hardy this time...   \n",
       "15503   neg  I'm not sure it was the language or the poor a...   \n",
       "21141   neg  Very bad but watchable science fiction film th...   \n",
       "\n",
       "                                                  scores  \n",
       "6318   {'neg': 0.081, 'neu': 0.762, 'pos': 0.157, 'co...  \n",
       "1208   {'neg': 0.025, 'neu': 0.814, 'pos': 0.162, 'co...  \n",
       "12090  {'neg': 0.035, 'neu': 0.663, 'pos': 0.302, 'co...  \n",
       "15503  {'neg': 0.175, 'neu': 0.743, 'pos': 0.082, 'co...  \n",
       "21141  {'neg': 0.122, 'neu': 0.758, 'pos': 0.12, 'com...  "
      ]
     },
     "execution_count": 6,
     "metadata": {},
     "output_type": "execute_result"
    }
   ],
   "source": [
    "%%time\n",
    "\n",
    "score_list = p_map(get_score, review_list)\n",
    "df['scores'] = score_list\n",
    "df.head()"
   ]
  },
  {
   "cell_type": "code",
   "execution_count": 7,
   "id": "c879613f",
   "metadata": {},
   "outputs": [
    {
     "name": "stdout",
     "output_type": "stream",
     "text": [
      "Wall time: 3.65 s\n"
     ]
    },
    {
     "data": {
      "text/html": [
       "<div>\n",
       "<style scoped>\n",
       "    .dataframe tbody tr th:only-of-type {\n",
       "        vertical-align: middle;\n",
       "    }\n",
       "\n",
       "    .dataframe tbody tr th {\n",
       "        vertical-align: top;\n",
       "    }\n",
       "\n",
       "    .dataframe thead th {\n",
       "        text-align: right;\n",
       "    }\n",
       "</style>\n",
       "<table border=\"1\" class=\"dataframe\">\n",
       "  <thead>\n",
       "    <tr style=\"text-align: right;\">\n",
       "      <th></th>\n",
       "      <th>label</th>\n",
       "      <th>review</th>\n",
       "      <th>scores</th>\n",
       "    </tr>\n",
       "  </thead>\n",
       "  <tbody>\n",
       "    <tr>\n",
       "      <th>6318</th>\n",
       "      <td>pos</td>\n",
       "      <td>This police procedural is no worse than many o...</td>\n",
       "      <td>{'neg': 0.081, 'neu': 0.762, 'pos': 0.157, 'co...</td>\n",
       "    </tr>\n",
       "    <tr>\n",
       "      <th>1208</th>\n",
       "      <td>pos</td>\n",
       "      <td>The villian in this movie is one mean sob and ...</td>\n",
       "      <td>{'neg': 0.025, 'neu': 0.814, 'pos': 0.162, 'co...</td>\n",
       "    </tr>\n",
       "    <tr>\n",
       "      <th>12090</th>\n",
       "      <td>pos</td>\n",
       "      <td>The concept of having Laurel &amp; Hardy this time...</td>\n",
       "      <td>{'neg': 0.035, 'neu': 0.663, 'pos': 0.302, 'co...</td>\n",
       "    </tr>\n",
       "    <tr>\n",
       "      <th>15503</th>\n",
       "      <td>neg</td>\n",
       "      <td>I'm not sure it was the language or the poor a...</td>\n",
       "      <td>{'neg': 0.175, 'neu': 0.743, 'pos': 0.082, 'co...</td>\n",
       "    </tr>\n",
       "    <tr>\n",
       "      <th>21141</th>\n",
       "      <td>neg</td>\n",
       "      <td>Very bad but watchable science fiction film th...</td>\n",
       "      <td>{'neg': 0.122, 'neu': 0.758, 'pos': 0.12, 'com...</td>\n",
       "    </tr>\n",
       "  </tbody>\n",
       "</table>\n",
       "</div>"
      ],
      "text/plain": [
       "      label                                             review  \\\n",
       "6318    pos  This police procedural is no worse than many o...   \n",
       "1208    pos  The villian in this movie is one mean sob and ...   \n",
       "12090   pos  The concept of having Laurel & Hardy this time...   \n",
       "15503   neg  I'm not sure it was the language or the poor a...   \n",
       "21141   neg  Very bad but watchable science fiction film th...   \n",
       "\n",
       "                                                  scores  \n",
       "6318   {'neg': 0.081, 'neu': 0.762, 'pos': 0.157, 'co...  \n",
       "1208   {'neg': 0.025, 'neu': 0.814, 'pos': 0.162, 'co...  \n",
       "12090  {'neg': 0.035, 'neu': 0.663, 'pos': 0.302, 'co...  \n",
       "15503  {'neg': 0.175, 'neu': 0.743, 'pos': 0.082, 'co...  \n",
       "21141  {'neg': 0.122, 'neu': 0.758, 'pos': 0.12, 'com...  "
      ]
     },
     "execution_count": 7,
     "metadata": {},
     "output_type": "execute_result"
    }
   ],
   "source": [
    "%%time\n",
    "\n",
    "# about 2 sec are wasted initializing pool.map()\n",
    "# the actual calculation is faster\n",
    "with mp.Pool() as pool:\n",
    "    score_list2 = pool.map(get_score, review_list)\n",
    "df['scores'] = score_list2\n",
    "df.head()"
   ]
  },
  {
   "cell_type": "code",
   "execution_count": null,
   "id": "7becd09d",
   "metadata": {},
   "outputs": [],
   "source": []
  }
 ],
 "metadata": {
  "kernelspec": {
   "display_name": "Python 3",
   "language": "python",
   "name": "python3"
  },
  "language_info": {
   "codemirror_mode": {
    "name": "ipython",
    "version": 3
   },
   "file_extension": ".py",
   "mimetype": "text/x-python",
   "name": "python",
   "nbconvert_exporter": "python",
   "pygments_lexer": "ipython3",
   "version": "3.7.10"
  }
 },
 "nbformat": 4,
 "nbformat_minor": 5
}
