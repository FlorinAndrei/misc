{
 "cells": [
  {
   "cell_type": "code",
   "execution_count": 1,
   "metadata": {},
   "outputs": [
    {
     "name": "stderr",
     "output_type": "stream",
     "text": [
      "<ipython-input-1-0b5b6c979daa>:15: TqdmExperimentalWarning: Using `tqdm.autonotebook.tqdm` in notebook mode. Use `tqdm.tqdm` instead to force console mode (e.g. in jupyter console)\n",
      "  from tqdm.autonotebook import tqdm\n"
     ]
    }
   ],
   "source": [
    "# data library\n",
    "from sklearn.datasets import fetch_openml\n",
    "\n",
    "# utilities to more easily process the data\n",
    "# (yes, tensorflow is overkill)\n",
    "from tensorflow import keras\n",
    "from keras.utils.np_utils import to_categorical\n",
    "from sklearn.model_selection import train_test_split\n",
    "\n",
    "import numpy as np\n",
    "\n",
    "# pip install --user ipywidgets\n",
    "# jupyter nbextension install --py widgetsnbextension --user\n",
    "# jupyter nbextension enable widgetsnbextension --user --py\n",
    "from tqdm.autonotebook import tqdm\n",
    "\n",
    "from matplotlib import pyplot as plt\n",
    "import pickle\n",
    "import os\n",
    "\n",
    "# fix caching / parsing extreme-slowness bug in fetch_openml()\n",
    "# by replacing the whole function with an outer cache\n",
    "from joblib import Memory\n",
    "memory = Memory('./tmp')\n",
    "fetch_openml_cached = memory.cache(fetch_openml)"
   ]
  },
  {
   "cell_type": "code",
   "execution_count": 2,
   "metadata": {},
   "outputs": [],
   "source": [
    "x, y = fetch_openml_cached('mnist_784', version = 1, cache = True, return_X_y = True, as_frame = False)\n",
    "\n",
    "x = (x / 255).astype('float32')\n",
    "y = to_categorical(y)\n",
    "\n",
    "x_train, x_test, y_train, y_test = train_test_split(x, y, test_size = 0.3, random_state = 42)"
   ]
  },
  {
   "cell_type": "code",
   "execution_count": 3,
   "metadata": {},
   "outputs": [],
   "source": [
    "def nn_init(lsize):\n",
    "    # human-readable names for clarity\n",
    "    input_layer  = lsize[0]\n",
    "    hidden_1     = lsize[1]\n",
    "    hidden_2     = lsize[2]\n",
    "    output_layer = lsize[3]\n",
    "    \n",
    "    # narrowing down the standard deviation by layer size, with np.sqrt()\n",
    "    # large layers have tighter initial values\n",
    "    nnet = {\n",
    "        'w0': np.random.randn(hidden_1, input_layer) * np.sqrt(1. / hidden_1),\n",
    "        'w1': np.random.randn(hidden_2, hidden_1) * np.sqrt(1. / hidden_2),\n",
    "        'w2': np.random.randn(output_layer, hidden_2) * np.sqrt(1. / output_layer)\n",
    "    }\n",
    "    return nnet\n",
    "\n",
    "layer_sizes = [x_train[0].shape[0], 128, 64, y_train[0].shape[0]]\n",
    "model = nn_init(layer_sizes)"
   ]
  },
  {
   "cell_type": "code",
   "execution_count": 4,
   "metadata": {},
   "outputs": [],
   "source": [
    "def forward_pass(x):\n",
    "    # the model is a global var, used here read-only\n",
    "    \n",
    "    # NN state: internal sums, neuron outputs\n",
    "    nn_state = {}\n",
    "    \n",
    "    # \"output zero\" is the output from receptors = input to first layer in the NN\n",
    "    # these are activations for the input layer\n",
    "    nn_state['o0'] = x\n",
    "    \n",
    "    # from input layer to hidden layer 1\n",
    "    # weighted sum of all activations, then sigmoid\n",
    "    nn_state['z1'] = np.dot(model['w0'], nn_state['o0'])\n",
    "    nn_state['o1'] = sigmoid(nn_state['z1'])\n",
    "    \n",
    "    # from hidden 1 to hidden 2\n",
    "    nn_state['z2'] = np.dot(model['w1'], nn_state['o1'])\n",
    "    nn_state['o2'] = sigmoid(nn_state['z2'])\n",
    "    \n",
    "    # from hidden 2 to output\n",
    "    nn_state['z3'] = np.dot(model['w2'], nn_state['o2'])\n",
    "    nn_state['o3'] = softmax(nn_state['z3'])\n",
    "    \n",
    "    return nn_state\n",
    "\n",
    "\n",
    "def backward_pass(x, y):\n",
    "    # do the forward pass, register the state of the network\n",
    "    nn_state = forward_pass(x)\n",
    "    \n",
    "    # small deltas: derivatives of the error w.r.t. z\n",
    "    nn_state['d3'] = nn_state['o3'] - y\n",
    "    nn_state['d2'] = np.dot(nn_state['d3'], model['w2']) * softmax(nn_state['z2'], derivative = True)\n",
    "    nn_state['d1'] = np.dot(nn_state['d2'], model['w1']) * sigmoid(nn_state['z1'], derivative = True)\n",
    "    \n",
    "    # large deltas: adjustments to weights\n",
    "    nn_state['D2'] = np.outer(nn_state['d3'], nn_state['o2'])\n",
    "    nn_state['D1'] = np.outer(nn_state['d2'], nn_state['o1'])\n",
    "    nn_state['D0'] = np.outer(nn_state['d1'], nn_state['o0'])\n",
    "    \n",
    "    return nn_state\n",
    "\n",
    "\n",
    "def part_cost(o, y):\n",
    "    c = np.dot(y, np.log(o)) + np.dot((1 - y), np.log(1 - o))\n",
    "    return -c\n",
    "\n",
    "\n",
    "def sigmoid(x, derivative = False):\n",
    "    if derivative:\n",
    "        return np.exp(-x) / ((np.exp(-x) + 1) ** 2)\n",
    "    else:\n",
    "        return 1 / (1 + np.exp(-x))\n",
    "\n",
    "\n",
    "def softmax(x, derivative = False):\n",
    "    # for stability, we shift values down so max = 0\n",
    "    # https://cs231n.github.io/linear-classify/#softmax\n",
    "    exp_shifted = np.exp(x - x.max())\n",
    "    if derivative:\n",
    "        return exp_shifted / np.sum(exp_shifted, axis = 0) * (1 - exp_shifted / np.sum(exp_shifted, axis = 0))\n",
    "    else:\n",
    "        return exp_shifted / np.sum(exp_shifted, axis = 0)"
   ]
  },
  {
   "cell_type": "code",
   "execution_count": 5,
   "metadata": {},
   "outputs": [
    {
     "name": "stdout",
     "output_type": "stream",
     "text": [
      "################### training ####################\n",
      "epoch: 0\n"
     ]
    },
    {
     "data": {
      "application/vnd.jupyter.widget-view+json": {
       "model_id": "50711a2acf224453a0f368c99842dbf2",
       "version_major": 2,
       "version_minor": 0
      },
      "text/plain": [
       "  0%|          | 0/49000 [00:00<?, ?it/s]"
      ]
     },
     "metadata": {},
     "output_type": "display_data"
    },
    {
     "name": "stdout",
     "output_type": "stream",
     "text": [
      "cost: 3.1868798789462143 accuracy: 0.24308163265306124\n",
      "epoch: 1\n"
     ]
    },
    {
     "data": {
      "application/vnd.jupyter.widget-view+json": {
       "model_id": "7bec9d556c144dc7bd0a42c1d8f43f64",
       "version_major": 2,
       "version_minor": 0
      },
      "text/plain": [
       "  0%|          | 0/49000 [00:00<?, ?it/s]"
      ]
     },
     "metadata": {},
     "output_type": "display_data"
    },
    {
     "name": "stdout",
     "output_type": "stream",
     "text": [
      "cost: 3.0205047955156283 accuracy: 0.42848979591836733\n",
      "epoch: 2\n"
     ]
    },
    {
     "data": {
      "application/vnd.jupyter.widget-view+json": {
       "model_id": "3a1a58f43f154b7a94035727682bbaef",
       "version_major": 2,
       "version_minor": 0
      },
      "text/plain": [
       "  0%|          | 0/49000 [00:00<?, ?it/s]"
      ]
     },
     "metadata": {},
     "output_type": "display_data"
    },
    {
     "name": "stdout",
     "output_type": "stream",
     "text": [
      "cost: 2.8576527750581207 accuracy: 0.5313061224489796\n",
      "epoch: 3\n"
     ]
    },
    {
     "data": {
      "application/vnd.jupyter.widget-view+json": {
       "model_id": "fe80be8a33ff40aca4550c12680c565e",
       "version_major": 2,
       "version_minor": 0
      },
      "text/plain": [
       "  0%|          | 0/49000 [00:00<?, ?it/s]"
      ]
     },
     "metadata": {},
     "output_type": "display_data"
    },
    {
     "name": "stdout",
     "output_type": "stream",
     "text": [
      "cost: 2.6988496229740426 accuracy: 0.5843877551020408\n",
      "epoch: 4\n"
     ]
    },
    {
     "data": {
      "application/vnd.jupyter.widget-view+json": {
       "model_id": "7bf0d7c7fe2c40c18454b41c261b465c",
       "version_major": 2,
       "version_minor": 0
      },
      "text/plain": [
       "  0%|          | 0/49000 [00:00<?, ?it/s]"
      ]
     },
     "metadata": {},
     "output_type": "display_data"
    },
    {
     "name": "stdout",
     "output_type": "stream",
     "text": [
      "cost: 2.5663423846965614 accuracy: 0.6173877551020408\n"
     ]
    }
   ],
   "source": [
    "epochs = 5\n",
    "t_rate = 0.001\n",
    "\n",
    "# train\n",
    "print('################### training ####################')\n",
    "for e in range(epochs):\n",
    "    print('epoch:', e)\n",
    "    \n",
    "    samples = x_train.shape[0]\n",
    "    cost = 0\n",
    "    hit_count = 0\n",
    "    for i in tqdm(range(samples)):\n",
    "        m_state = backward_pass(x_train[i], y_train[i])\n",
    "        # add partial cost\n",
    "        cost += part_cost(m_state['o3'], y_train[i])\n",
    "        \n",
    "        # stochastic gradient descent\n",
    "        # update weights\n",
    "        model['w0'] -= t_rate * m_state['D0']\n",
    "        model['w1'] -= t_rate * m_state['D1']\n",
    "        model['w2'] -= t_rate * m_state['D2']\n",
    "        \n",
    "        if np.argmax(m_state['o3']) == np.argmax(y_train[i]):\n",
    "            # successful detection\n",
    "            hit_count += 1\n",
    "\n",
    "    # performance evaluation\n",
    "    cost = cost / samples\n",
    "    accuracy = hit_count / samples\n",
    "    print('cost:', cost, 'accuracy:', accuracy)\n",
    "\n",
    "# save the model\n",
    "with open('model.pickle', 'wb') as f:\n",
    "    pickle.dump(model, f)"
   ]
  },
  {
   "cell_type": "code",
   "execution_count": 6,
   "metadata": {},
   "outputs": [
    {
     "name": "stdout",
     "output_type": "stream",
     "text": [
      "################### testing ####################\n"
     ]
    },
    {
     "data": {
      "application/vnd.jupyter.widget-view+json": {
       "model_id": "5f56d21b20744cd6a45ab6d23e62d6c8",
       "version_major": 2,
       "version_minor": 0
      },
      "text/plain": [
       "  0%|          | 0/21000 [00:00<?, ?it/s]"
      ]
     },
     "metadata": {},
     "output_type": "display_data"
    },
    {
     "name": "stdout",
     "output_type": "stream",
     "text": [
      "cost: 2.53188801280013 accuracy: 0.6292380952380953\n"
     ]
    }
   ],
   "source": [
    "# test\n",
    "print('################### testing ####################')\n",
    "\n",
    "# load the model\n",
    "if os.path.isfile('model.pickle'):\n",
    "    with open('model.pickle', 'rb') as f:\n",
    "        model = pickle.load(f)\n",
    "\n",
    "# run the whole test data\n",
    "samples = x_test.shape[0]\n",
    "cost = 0\n",
    "hit_count = 0\n",
    "for i in tqdm(range(samples)):\n",
    "    m_state = forward_pass(x_test[i])\n",
    "    cost += part_cost(m_state['o3'], y_test[i])\n",
    "    if np.argmax(m_state['o3']) == np.argmax(y_test[i]):\n",
    "        hit_count += 1\n",
    "\n",
    "# evaluate performance\n",
    "cost = cost / samples\n",
    "accuracy = hit_count / samples\n",
    "print('cost:', cost, 'accuracy:', accuracy)"
   ]
  },
  {
   "cell_type": "markdown",
   "metadata": {},
   "source": [
    "# Data Samples"
   ]
  },
  {
   "cell_type": "code",
   "execution_count": 7,
   "metadata": {},
   "outputs": [
    {
     "data": {
      "image/png": "[encoded data removed]",
      "text/plain": [
       "<Figure size 432x288 with 1 Axes>"
      ]
     },
     "metadata": {
      "needs_background": "light"
     },
     "output_type": "display_data"
    }
   ],
   "source": [
    "plt.imshow(np.reshape(x_train[2], (28, 28)));"
   ]
  },
  {
   "cell_type": "code",
   "execution_count": 8,
   "metadata": {},
   "outputs": [
    {
     "data": {
      "text/plain": [
       "[0, 0, 0, 0, 1, 0, 0, 0, 0, 0]"
      ]
     },
     "execution_count": 8,
     "metadata": {},
     "output_type": "execute_result"
    }
   ],
   "source": [
    "y_train[2].astype(int).tolist()"
   ]
  },
  {
   "cell_type": "code",
   "execution_count": 9,
   "metadata": {},
   "outputs": [
    {
     "data": {
      "image/png": "[encoded data removed]",
      "text/plain": [
       "<Figure size 432x288 with 1 Axes>"
      ]
     },
     "metadata": {
      "needs_background": "light"
     },
     "output_type": "display_data"
    }
   ],
   "source": [
    "plt.imshow(np.reshape(x_train[6], (28, 28)));"
   ]
  },
  {
   "cell_type": "code",
   "execution_count": 10,
   "metadata": {},
   "outputs": [
    {
     "data": {
      "text/plain": [
       "[0, 0, 1, 0, 0, 0, 0, 0, 0, 0]"
      ]
     },
     "execution_count": 10,
     "metadata": {},
     "output_type": "execute_result"
    }
   ],
   "source": [
    "y_train[6].astype(int).tolist()"
   ]
  },
  {
   "cell_type": "markdown",
   "metadata": {},
   "source": [
    "# Sigmoid"
   ]
  },
  {
   "cell_type": "code",
   "execution_count": 11,
   "metadata": {},
   "outputs": [
    {
     "data": {
      "image/png": "[encoded data removed]",
      "text/plain": [
       "<Figure size 648x360 with 1 Axes>"
      ]
     },
     "metadata": {
      "needs_background": "light"
     },
     "output_type": "display_data"
    }
   ],
   "source": [
    "x = np.arange(-10, 10, 0.1)\n",
    "y = 1 / (1 + np.exp(-x))\n",
    "plt.rcParams[\"figure.figsize\"] = (9, 5)\n",
    "plt.rcParams['axes.spines.right'] = False\n",
    "plt.rcParams['axes.spines.top'] = False\n",
    "plt.rcParams['axes.xmargin'] = 0\n",
    "plt.rcParams['axes.ymargin'] = 0.01\n",
    "plt.rcParams['axes.grid'] = True\n",
    "plt.rcParams['axes.titlesize'] = 'x-large'\n",
    "plt.rcParams['grid.alpha'] = 0.5\n",
    "plt.rcParams['legend.frameon'] = False\n",
    "plt.rcParams['legend.fontsize'] = 'x-large'\n",
    "plt.rcParams['lines.marker'] = ''\n",
    "plt.rcParams['lines.markersize'] = 4\n",
    "plt.rcParams['lines.linewidth'] = 4\n",
    "plt.rcParams['xtick.labelsize'] = 'x-large'\n",
    "plt.rcParams['ytick.labelsize'] = 'x-large'\n",
    "plt.rcParams['figure.subplot.top'] = 0.98\n",
    "plt.rcParams['figure.subplot.bottom'] = 0.05\n",
    "plt.rcParams['figure.subplot.left'] = 0.05\n",
    "plt.rcParams['figure.subplot.right'] = 0.98\n",
    "plt.plot(x, y);"
   ]
  },
  {
   "cell_type": "code",
   "execution_count": null,
   "metadata": {},
   "outputs": [],
   "source": []
  }
 ],
 "metadata": {
  "kernelspec": {
   "display_name": "Python 3",
   "language": "python",
   "name": "python3"
  },
  "language_info": {
   "codemirror_mode": {
    "name": "ipython",
    "version": 3
   },
   "file_extension": ".py",
   "mimetype": "text/x-python",
   "name": "python",
   "nbconvert_exporter": "python",
   "pygments_lexer": "ipython3",
   "version": "3.8.10"
  }
 },
 "nbformat": 4,
 "nbformat_minor": 4
}
