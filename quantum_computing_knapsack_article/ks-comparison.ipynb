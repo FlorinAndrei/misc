{
 "cells": [
  {
   "cell_type": "code",
   "execution_count": 1,
   "metadata": {},
   "outputs": [],
   "source": [
    "import pandas as pd\n",
    "import numpy as np\n",
    "import pyomo.environ as pe\n",
    "from dimod.reference.samplers import ExactCQMSolver\n",
    "from dwave.system import LeapHybridCQMSampler\n",
    "from dimod import ConstrainedQuadraticModel, BinaryQuadraticModel, QuadraticModel\n",
    "import time\n"
   ]
  },
  {
   "cell_type": "code",
   "execution_count": 2,
   "metadata": {},
   "outputs": [],
   "source": [
    "n_items = 50000\n",
    "max_cost = 9999\n",
    "max_weight = 9999\n",
    "\n",
    "rebuild_ds = False\n",
    "if rebuild_ds:\n",
    "    df = pd.DataFrame(\n",
    "        {\n",
    "            \"cost\": np.random.randint(1, max_cost, size=n_items),\n",
    "            \"weight\": np.random.randint(1, max_weight, size=n_items),\n",
    "        }\n",
    "    )\n",
    "    df.to_csv(\"ds.csv\", index=False, header=False)\n"
   ]
  },
  {
   "cell_type": "code",
   "execution_count": 3,
   "metadata": {},
   "outputs": [],
   "source": [
    "def knapsack_pyomo(values, weights, max_weight, debug=False):\n",
    "    print(f\"solving for {len(values)} items\")\n",
    "    print(\"build the model\")\n",
    "    pecm = pe.ConcreteModel(name=\"Knapsack\")\n",
    "    pecm.x = pe.Var(range(0, len(values)), domain=pe.Boolean)\n",
    "    pecm.worth = pe.Objective(\n",
    "        expr=sum(values[j] * pecm.x[j] for j in range(0, len(values))),\n",
    "        sense=pe.maximize,\n",
    "    )\n",
    "    pecm.weight = pe.ConstraintList()\n",
    "    pecm.weight.add(\n",
    "        sum(weights[j] * pecm.x[j] for j in range(0, len(values))) <= max_weight\n",
    "    )\n",
    "    if debug:\n",
    "        pecm.pprint()\n",
    "\n",
    "    solver_name = \"glpk\"\n",
    "    print(f\"submit model to solver {solver_name}\")\n",
    "    solver = pe.SolverFactory(solver_name)\n",
    "    t_start = time.time()\n",
    "    solver.solve(pecm)\n",
    "    t_end = time.time()\n",
    "    t_solver = t_end - t_start\n",
    "    if debug:\n",
    "        pecm.display()\n",
    "\n",
    "    print(\"parse the solver output\")\n",
    "    total_value = int(pecm.worth())\n",
    "    total_weight = int(sum(weights[j] * pecm.x[j]() for j in range(0, len(values))))\n",
    "    selected_items = pecm.x\n",
    "\n",
    "    return (\n",
    "        total_value,\n",
    "        total_weight,\n",
    "        selected_items,\n",
    "        t_solver,\n",
    "    )\n"
   ]
  },
  {
   "cell_type": "code",
   "execution_count": 4,
   "metadata": {},
   "outputs": [],
   "source": [
    "def knapsack_dwave(values, weights, max_weight, debug=False, classic_solver=False):\n",
    "    print(f\"solving for {len(values)} items\")\n",
    "    print(\"build the model\")\n",
    "    cqm = ConstrainedQuadraticModel()\n",
    "    obj = BinaryQuadraticModel(vartype=\"BINARY\")\n",
    "    constraint = QuadraticModel()\n",
    "\n",
    "    for i in range(len(values)):\n",
    "        obj.add_variable(i)\n",
    "        obj.set_linear(i, -values[i])\n",
    "        constraint.add_variable(\"BINARY\", i)\n",
    "        constraint.set_linear(i, weights[i])\n",
    "\n",
    "    cqm.set_objective(obj)\n",
    "    cqm.add_constraint(constraint, sense=\"<=\", rhs=max_weight, label=\"capacity\")\n",
    "\n",
    "    if classic_solver:\n",
    "        sampler = ExactCQMSolver()\n",
    "    else:\n",
    "        sampler = LeapHybridCQMSampler()\n",
    "\n",
    "    if classic_solver:\n",
    "        print(f\"submit model to solver ExactCQMSolver\")\n",
    "    else:\n",
    "        print(f\"submit model to solver {sampler.solver.name}\")\n",
    "    if classic_solver:\n",
    "        sampleset = sampler.sample_cqm(cqm)\n",
    "    else:\n",
    "        sampleset = sampler.sample_cqm(cqm, label=\"knapsack problem\")\n",
    "\n",
    "    print(\"parse the solver output\")\n",
    "    feasible_sampleset = sampleset.filter(lambda row: row.is_feasible)\n",
    "    if not len(feasible_sampleset):\n",
    "        raise ValueError(\"No feasible solution found\")\n",
    "    best = feasible_sampleset.first\n",
    "\n",
    "    selected_items = [key for key, val in best.sample.items() if val == 1.0]\n",
    "    total_weight = sum(list(weights.loc[selected_items]))\n",
    "    total_value = sum(list(values.loc[selected_items]))\n",
    "    best_solution_energy = best.energy\n",
    "\n",
    "    if classic_solver:\n",
    "        t_solver_server_side = None\n",
    "        t_qpu = None\n",
    "    else:\n",
    "        t_solver_server_side = sampleset.info[\"run_time\"] / 1000000\n",
    "        t_qpu = sampleset.info[\"qpu_access_time\"] / 1000000\n",
    "\n",
    "    return (\n",
    "        total_value,\n",
    "        total_weight,\n",
    "        selected_items,\n",
    "        t_solver_server_side,\n",
    "        t_qpu,\n",
    "        best_solution_energy,\n",
    "        sampleset,\n",
    "    )\n"
   ]
  },
  {
   "cell_type": "code",
   "execution_count": 5,
   "metadata": {},
   "outputs": [
    {
     "name": "stdout",
     "output_type": "stream",
     "text": [
      "solving for 50000 items\n",
      "build the model\n",
      "submit model to solver glpk\n",
      "parse the solver output\n",
      "solver time:         129.44616556167603\n",
      "knapsack max weight: 200052600\n",
      "items total weight:  200052581\n",
      "items total value:   241399378\n"
     ]
    }
   ],
   "source": [
    "ds = pd.read_csv(\"ds.csv\", names=[\"cost\", \"weight\"])\n",
    "\n",
    "values_array = ds[\"cost\"]\n",
    "weights_array = ds[\"weight\"]\n",
    "knapsack_max_weight = int(0.8 * ds[\"weight\"].sum())\n",
    "\n",
    "finalVal, finalWeight, finalChoices, solver_time = knapsack_pyomo(\n",
    "    values_array, weights_array, knapsack_max_weight\n",
    ")\n",
    "\n",
    "print(f\"solver time:         {solver_time}\")\n",
    "print(f\"knapsack max weight: {knapsack_max_weight}\")\n",
    "print(f\"items total weight:  {finalWeight}\")\n",
    "print(f\"items total value:   {finalVal}\")\n"
   ]
  },
  {
   "cell_type": "code",
   "execution_count": 6,
   "metadata": {},
   "outputs": [
    {
     "name": "stdout",
     "output_type": "stream",
     "text": [
      "solving for 50000 items\n",
      "build the model\n",
      "submit model to solver hybrid_constrained_quadratic_model_version1\n",
      "parse the solver output\n",
      "solver time server side: 18.006079\n",
      "solver time QPU:         0.016048\n",
      "knapsack max weight:     200052600\n",
      "items total weight:      200052560\n",
      "items total value:       240318952\n",
      "best sol. energy:        -240318952.0\n"
     ]
    }
   ],
   "source": [
    "(\n",
    "    finalVal,\n",
    "    finalWeight,\n",
    "    finalChoices,\n",
    "    solver_time_server,\n",
    "    solver_time_qpu,\n",
    "    best_energy,\n",
    "    sampleset,\n",
    ") = knapsack_dwave(values_array, weights_array, knapsack_max_weight)\n",
    "\n",
    "print(f\"solver time server side: {solver_time_server}\")\n",
    "print(f\"solver time QPU:         {solver_time_qpu}\")\n",
    "print(f\"knapsack max weight:     {knapsack_max_weight}\")\n",
    "print(f\"items total weight:      {finalWeight}\")\n",
    "print(f\"items total value:       {finalVal}\")\n",
    "print(f\"best sol. energy:        {best_energy}\")\n"
   ]
  },
  {
   "cell_type": "code",
   "execution_count": 7,
   "metadata": {},
   "outputs": [
    {
     "data": {
      "text/plain": [
       "{'constraint_labels': ['capacity'],\n",
       " 'qpu_access_time': 16048,\n",
       " 'charge_time': 8336600,\n",
       " 'run_time': 18006079,\n",
       " 'problem_id': 'ac656e5c-7e18-4a95-a554-d386a785950f',\n",
       " 'problem_label': 'knapsack problem'}"
      ]
     },
     "execution_count": 7,
     "metadata": {},
     "output_type": "execute_result"
    }
   ],
   "source": [
    "sampleset.info\n"
   ]
  },
  {
   "cell_type": "code",
   "execution_count": null,
   "metadata": {},
   "outputs": [],
   "source": []
  }
 ],
 "metadata": {
  "kernelspec": {
   "display_name": "Python 3 (ipykernel)",
   "language": "python",
   "name": "python3"
  },
  "language_info": {
   "codemirror_mode": {
    "name": "ipython",
    "version": 3
   },
   "file_extension": ".py",
   "mimetype": "text/x-python",
   "name": "python",
   "nbconvert_exporter": "python",
   "pygments_lexer": "ipython3",
   "version": "3.10.6"
  },
  "vscode": {
   "interpreter": {
    "hash": "26de051ba29f2982a8de78e945f0abaf191376122a1563185a90213a26c5da77"
   }
  }
 },
 "nbformat": 4,
 "nbformat_minor": 2
}
