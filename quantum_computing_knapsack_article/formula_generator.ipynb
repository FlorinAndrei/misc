{
 "cells": [
  {
   "cell_type": "markdown",
   "id": "3f44f624",
   "metadata": {},
   "source": [
    "$$\n",
    "E_{ising}(s) = \\sum_{i=1}^{N}h_is_i + \\sum_{i=1}^{N}\\sum_{j=i+1}^{N}J_{i,j}s_is_j\n",
    "$$"
   ]
  },
  {
   "cell_type": "markdown",
   "id": "dcafff7c",
   "metadata": {},
   "source": [
    "$$\n",
    "f(x) = \\sum_iQ_{i,i}x_i + \\sum_{i<j}Q_{i,j}\n",
    "x_ix_j$$"
   ]
  },
  {
   "cell_type": "code",
   "execution_count": null,
   "id": "db1bd2d2",
   "metadata": {},
   "outputs": [],
   "source": []
  }
 ],
 "metadata": {
  "kernelspec": {
   "display_name": "Python 3 (ipykernel)",
   "language": "python",
   "name": "python3"
  },
  "language_info": {
   "codemirror_mode": {
    "name": "ipython",
    "version": 3
   },
   "file_extension": ".py",
   "mimetype": "text/x-python",
   "name": "python",
   "nbconvert_exporter": "python",
   "pygments_lexer": "ipython3",
   "version": "3.10.6"
  }
 },
 "nbformat": 4,
 "nbformat_minor": 5
}
