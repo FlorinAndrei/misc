{
 "cells": [
  {
   "cell_type": "code",
   "execution_count": 1,
   "metadata": {},
   "outputs": [],
   "source": [
    "import numpy as np\n",
    "from scipy import stats"
   ]
  },
  {
   "cell_type": "markdown",
   "metadata": {},
   "source": [
    "# 1. Test a claim - significance test\n",
    "## 1.1. One sample\n",
    "### 1.1.1. Mean (quantitative data)\n",
    "Fact: water is bad when bacteria is > 88. Null hypothesis: this water is safe. To reject it, P-value needs to be < 0.05 (one-sided).\n",
    "\n",
    "H0: m = 88\n",
    "\n",
    "Ha: m > 88"
   ]
  },
  {
   "cell_type": "code",
   "execution_count": 2,
   "metadata": {},
   "outputs": [],
   "source": [
    "bac = np.array([248, 37, 146, 19, 66, 236, 164, 30, 13, 144, 242, 20])"
   ]
  },
  {
   "cell_type": "code",
   "execution_count": 3,
   "metadata": {},
   "outputs": [],
   "source": [
    "t_statistic, P_value = stats.ttest_1samp(bac, 88)"
   ]
  },
  {
   "cell_type": "code",
   "execution_count": 4,
   "metadata": {},
   "outputs": [
    {
     "name": "stdout",
     "output_type": "stream",
     "text": [
      "t = 0.9499095403173593\n",
      "P = 0.18128112986496991\n"
     ]
    }
   ],
   "source": [
    "P_value = P_value / 2 # one-sided\n",
    "print('t =', t_statistic)\n",
    "print('P =', P_value)"
   ]
  },
  {
   "cell_type": "markdown",
   "metadata": {},
   "source": [
    "P > 0.05 so we cannot reject H0. Water is likely safe."
   ]
  },
  {
   "cell_type": "markdown",
   "metadata": {},
   "source": [
    "### 1.1.2. Proportion (categorical data)\n",
    "We have two sheets with pictures of dogs and dog owners. One sheet - owners and dogs are associated correctly. The other sheet - random associations.\n",
    "\n",
    "61 students are asked to guess which sheet is the real association. 49 of them guess correctly. If this was a random guess, 50% would guess right. Is this evidence that students are doing better than plain guessing? (P < 0.05)\n",
    "\n",
    "H0: p = 0.5\n",
    "\n",
    "Ha: p > 0.5"
   ]
  },
  {
   "cell_type": "code",
   "execution_count": 5,
   "metadata": {},
   "outputs": [],
   "source": [
    "# TODO: look for a simpler solution.\n",
    "\n",
    "p0 = 0.5\n",
    "n = 61\n",
    "succ = 49\n",
    "p_hat = succ / n"
   ]
  },
  {
   "cell_type": "code",
   "execution_count": 6,
   "metadata": {},
   "outputs": [],
   "source": [
    "z_stat = (p_hat - p0) / (p0 * (1 - p0) / n) ** 0.5\n",
    "P_value = 1 - stats.norm.cdf(z_stat)"
   ]
  },
  {
   "cell_type": "code",
   "execution_count": 7,
   "metadata": {},
   "outputs": [
    {
     "name": "stdout",
     "output_type": "stream",
     "text": [
      "P = 1.082577341104951e-06\n"
     ]
    }
   ],
   "source": [
    "print('P =', P_value)"
   ]
  },
  {
   "cell_type": "markdown",
   "metadata": {},
   "source": [
    "P < 0.05 so we reject H0. Students are doing better than random guessing."
   ]
  },
  {
   "cell_type": "markdown",
   "metadata": {},
   "source": [
    "## 1.2. Two samples\n",
    "### 1.2.1. Compare means (quantitative data)\n",
    "Is it true that lean people spend more time standing and walking, than do obese people?\n",
    "\n",
    "Collect daily minutes spent standing/walking from 10 lean and 10 obese people. Calculate the average daily minutes for these two groups.\n",
    "\n",
    "- H0: averages are equal\n",
    "- Ha: averages are not equal\n",
    "\n",
    "If P < 0.05, H0 will be rejected."
   ]
  },
  {
   "cell_type": "code",
   "execution_count": 8,
   "metadata": {
    "scrolled": true
   },
   "outputs": [
    {
     "data": {
      "text/plain": [
       "152.4821"
      ]
     },
     "execution_count": 8,
     "metadata": {},
     "output_type": "execute_result"
    }
   ],
   "source": [
    "lean  = np.array([511.1, 607.925, 319.212, 584.644, 578.869, 543.388, 677.188, 555.656, 374.831, 504.7])\n",
    "obese = np.array([260.244, 464.756, 367.138, 413.667, 347.375, 416.531, 358.65, 267.344, 410.631, 426.356])\n",
    "lean.mean() - obese.mean()"
   ]
  },
  {
   "cell_type": "markdown",
   "metadata": {},
   "source": [
    "Averages are not equal."
   ]
  },
  {
   "cell_type": "code",
   "execution_count": 9,
   "metadata": {},
   "outputs": [],
   "source": [
    "t_stat, p_val = stats.ttest_ind(lean, obese)"
   ]
  },
  {
   "cell_type": "code",
   "execution_count": 10,
   "metadata": {},
   "outputs": [
    {
     "name": "stdout",
     "output_type": "stream",
     "text": [
      "3.8083756040290306 0.0012871405333009754\n"
     ]
    }
   ],
   "source": [
    "print(t_stat, p_val)"
   ]
  },
  {
   "cell_type": "markdown",
   "metadata": {},
   "source": [
    "P < 0.05 so we reject H0. Lean people do spend more time standing and walking."
   ]
  },
  {
   "cell_type": "markdown",
   "metadata": {},
   "source": [
    "### 1.2.2. Compare proportions (categorical data)\n",
    "A false event was shown to a large sample of test subjects, who were asked if they \"remember\" it. 616 subjects self-identified as progressive, 49 self-identified as conservative.\n",
    "\n",
    "Of the progressive group, 212 \"remembered\" the event. Of the conservative group, 7 \"remembered\" it. Is this strong evidence that a larger proportion of progressives have this false memory?\n",
    "\n",
    "- H0:  p1 = p2\n",
    "- Ha: p1 <> p2\n",
    "\n",
    "If P < 0.05, H0 will be rejected."
   ]
  },
  {
   "cell_type": "code",
   "execution_count": 11,
   "metadata": {},
   "outputs": [],
   "source": [
    "n1 = 616\n",
    "n2 = 49\n",
    "s1 = 212\n",
    "s2 = 7\n",
    "\n",
    "p1 = s1 / n1\n",
    "p2 = s2 / n2\n",
    "p = (s1 + s2) / (n1 + n2)\n",
    "z = (p1 - p2) / (p * (1 - p) * (1 / n1 + 1 / n2)) ** 0.5"
   ]
  },
  {
   "cell_type": "code",
   "execution_count": 12,
   "metadata": {},
   "outputs": [],
   "source": [
    "P = 1 - stats.norm.cdf(z)"
   ]
  },
  {
   "cell_type": "code",
   "execution_count": 13,
   "metadata": {},
   "outputs": [
    {
     "name": "stdout",
     "output_type": "stream",
     "text": [
      "P = 0.0019527407222336146\n"
     ]
    }
   ],
   "source": [
    "print('P =', P)"
   ]
  },
  {
   "cell_type": "markdown",
   "metadata": {},
   "source": [
    "P < 0.05 so we reject H0. Progressives are more likely to have this false memory."
   ]
  },
  {
   "cell_type": "code",
   "execution_count": null,
   "metadata": {},
   "outputs": [],
   "source": []
  }
 ],
 "metadata": {
  "kernelspec": {
   "display_name": "Python 3",
   "language": "python",
   "name": "python3"
  },
  "language_info": {
   "codemirror_mode": {
    "name": "ipython",
    "version": 3
   },
   "file_extension": ".py",
   "mimetype": "text/x-python",
   "name": "python",
   "nbconvert_exporter": "python",
   "pygments_lexer": "ipython3",
   "version": "3.7.7"
  }
 },
 "nbformat": 4,
 "nbformat_minor": 4
}
